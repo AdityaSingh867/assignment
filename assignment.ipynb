{
 "cells": [
  {
   "cell_type": "markdown",
   "id": "fe3fa983-340a-482e-9443-17da7e69c7ac",
   "metadata": {},
   "source": [
    "Q1. Explain with an example each when to use a for loop and a while loop ?"
   ]
  },
  {
   "cell_type": "markdown",
   "id": "abbd3a43-b046-4a3f-914d-be00388e98d4",
   "metadata": {},
   "source": [
    "Ans 1 -"
   ]
  },
  {
   "cell_type": "code",
   "execution_count": 9,
   "id": "206dd987-234b-4dda-93be-b0919118c861",
   "metadata": {},
   "outputs": [],
   "source": [
    "a1 = [1,2,3,3,4,6,7,8]"
   ]
  },
  {
   "cell_type": "code",
   "execution_count": 10,
   "id": "cf4f53db-aee2-4b6d-867a-65518340153c",
   "metadata": {},
   "outputs": [
    {
     "data": {
      "text/plain": [
       "[1, 2, 3, 3, 4, 6, 7, 8]"
      ]
     },
     "execution_count": 10,
     "metadata": {},
     "output_type": "execute_result"
    }
   ],
   "source": [
    "a1"
   ]
  },
  {
   "cell_type": "markdown",
   "id": "6f7c28bc-cfdd-41a8-b42f-4b0bd0cfc374",
   "metadata": {},
   "source": [
    "for loop"
   ]
  },
  {
   "cell_type": "code",
   "execution_count": 11,
   "id": "acb76d3d-a2c6-4936-a529-14b2b7085e08",
   "metadata": {},
   "outputs": [
    {
     "name": "stdout",
     "output_type": "stream",
     "text": [
      "1\n",
      "2\n",
      "3\n",
      "3\n",
      "4\n",
      "6\n",
      "7\n",
      "8\n"
     ]
    }
   ],
   "source": [
    "for i in a1:\n",
    "    print(i)"
   ]
  },
  {
   "cell_type": "markdown",
   "id": "7ee4d149-daf1-4ba9-b325-8ab3a43cc6f7",
   "metadata": {},
   "source": [
    "while loop"
   ]
  },
  {
   "cell_type": "code",
   "execution_count": 12,
   "id": "0b37db8b-f750-4878-be31-46259990dc91",
   "metadata": {},
   "outputs": [
    {
     "name": "stdout",
     "output_type": "stream",
     "text": [
      "1\n",
      "2\n",
      "3\n",
      "4\n",
      "5\n",
      "6\n",
      "7\n",
      "8\n",
      "9\n",
      "10\n"
     ]
    }
   ],
   "source": [
    "a = 1\n",
    "while a <= 10 :\n",
    "    print(a)\n",
    "    a = a + 1"
   ]
  },
  {
   "cell_type": "markdown",
   "id": "62a386b3-5a03-4e96-94c5-2d3567bc0240",
   "metadata": {},
   "source": [
    "Q2. Write a python program to print the sum and product of the first 10 natural numbers using for and while loop ?"
   ]
  },
  {
   "cell_type": "markdown",
   "id": "1e889098-97c6-4cea-a5f6-b39348f96b63",
   "metadata": {},
   "source": [
    "Ans 2 -"
   ]
  },
  {
   "cell_type": "markdown",
   "id": "17ab3de8-dbbe-4f23-9878-52db4f461aea",
   "metadata": {},
   "source": [
    "sum in (for loop)"
   ]
  },
  {
   "cell_type": "code",
   "execution_count": 13,
   "id": "a334119e-de9e-4a8c-aadc-de12723e5075",
   "metadata": {},
   "outputs": [],
   "source": [
    "l1 = [1,2,3,4,5,6,7,8,9,10]"
   ]
  },
  {
   "cell_type": "code",
   "execution_count": 14,
   "id": "e4e06ce4-b3a9-4fba-8fda-e276a067b070",
   "metadata": {},
   "outputs": [
    {
     "name": "stdout",
     "output_type": "stream",
     "text": [
      "55\n"
     ]
    }
   ],
   "source": [
    "w = 0\n",
    "for i in l1:\n",
    "    w = w + i\n",
    "print(w)"
   ]
  },
  {
   "cell_type": "markdown",
   "id": "215014aa-e7a0-42f0-a08a-1eaf51579756",
   "metadata": {},
   "source": [
    "pruduct in (for loop)"
   ]
  },
  {
   "cell_type": "code",
   "execution_count": 15,
   "id": "25c09883-ffef-483d-93bd-182396d63eaf",
   "metadata": {},
   "outputs": [
    {
     "name": "stdout",
     "output_type": "stream",
     "text": [
      "3628800\n"
     ]
    }
   ],
   "source": [
    "w1 = 1\n",
    "for i in l1:\n",
    "    w1 = w1*i\n",
    "print(w1)    "
   ]
  },
  {
   "cell_type": "markdown",
   "id": "f19e4dbe-85af-49ca-8d38-780caacd7e0e",
   "metadata": {},
   "source": [
    "sum in while loop"
   ]
  },
  {
   "cell_type": "code",
   "execution_count": 16,
   "id": "909c7314-492d-4dc5-91ce-9702b78304a1",
   "metadata": {},
   "outputs": [
    {
     "name": "stdin",
     "output_type": "stream",
     "text": [
      "type your number 10\n"
     ]
    },
    {
     "data": {
      "text/plain": [
       "55"
      ]
     },
     "execution_count": 16,
     "metadata": {},
     "output_type": "execute_result"
    }
   ],
   "source": [
    "a = int(input('type your number'))\n",
    "starting = 0\n",
    "counter = 1\n",
    "while counter <= a :\n",
    "    starting = starting + counter \n",
    "    counter = counter + 1\n",
    "starting  "
   ]
  },
  {
   "cell_type": "markdown",
   "id": "5c22e706-27b2-46df-bc75-f21d529d0253",
   "metadata": {},
   "source": [
    "product in while loop"
   ]
  },
  {
   "cell_type": "code",
   "execution_count": 17,
   "id": "404bd11c-2a8e-436c-b8ec-9f4da90db5d7",
   "metadata": {},
   "outputs": [
    {
     "name": "stdin",
     "output_type": "stream",
     "text": [
      "type your number 10\n"
     ]
    },
    {
     "data": {
      "text/plain": [
       "3628800"
      ]
     },
     "execution_count": 17,
     "metadata": {},
     "output_type": "execute_result"
    }
   ],
   "source": [
    "a1 = int(input('type your number'))\n",
    "starting = 1\n",
    "counter = 1\n",
    "while counter <= a1:\n",
    "    starting = starting*counter \n",
    "    counter = counter + 1\n",
    "starting   "
   ]
  },
  {
   "cell_type": "markdown",
   "id": "63cb4c67-672a-48c6-8926-6cd56c96e5d7",
   "metadata": {},
   "source": [
    "Q3. Create a python program to compute the electricity bill for a household.\n",
    "\n",
    "The per-unit charges in rupees are as follows: For the first 100 units, the user will be charged Rs. 4.5 per unit, for the next 100 units, the user will be charged Rs. 6 per unit, and for the next 100 units, the user will be charged Rs. 10 per unit, After 300 units and above the user will be charged Rs. 20 per unit. You are required to take the units of electricity consumed in a month from the user as input. Your program must pass this test case: when the unit of electricity consumed by the user in a month is 310, the total electricity bill should be 2250."
   ]
  },
  {
   "cell_type": "code",
   "execution_count": 43,
   "id": "73d86502-9960-4e7a-bd0f-c127f324bef8",
   "metadata": {},
   "outputs": [
    {
     "name": "stdin",
     "output_type": "stream",
     "text": [
      "type your electricity unit 310\n"
     ]
    },
    {
     "name": "stdout",
     "output_type": "stream",
     "text": [
      "2250.0\n"
     ]
    }
   ],
   "source": [
    "unit = int(input('type your electricity unit'))\n",
    "bill = 0\n",
    "\n",
    "if unit >= 0 and unit <= 100 :\n",
    "    bill = 100*4.5\n",
    "elif unit >100 and unit <= 200 :\n",
    "    bill = 100*4.5 + (unit-100)*6\n",
    "elif unit > 200 and unit <= 300:\n",
    "    bill = 100*4.5 + 200*6 + (unit-200)*10\n",
    "else :\n",
    "    bill = 100*4.5 +100*6 + 100*10 + (unit-300)*20\n",
    "print(bill ) "
   ]
  },
  {
   "cell_type": "markdown",
   "id": "3bc3f2f8-d88a-44c7-90e8-c84b98f9896b",
   "metadata": {},
   "source": [
    "Q4. Create a list of numbers from 1 to 100. Use for loop and while loop to calculate the cube of each\n",
    "number and if the cube of that number is divisible by 4 or 5 then append that number in a list and print\n",
    "that list ?"
   ]
  },
  {
   "cell_type": "markdown",
   "id": "2948e876-b226-49b4-b0c8-02584a46ea2f",
   "metadata": {},
   "source": [
    "Ans 4 - "
   ]
  },
  {
   "cell_type": "code",
   "execution_count": 22,
   "id": "47013d1f-c3a4-488b-809b-3f87999ffce4",
   "metadata": {},
   "outputs": [
    {
     "name": "stdout",
     "output_type": "stream",
     "text": [
      "1\n",
      "2\n",
      "3\n",
      "4\n",
      "5\n",
      "6\n",
      "7\n",
      "8\n",
      "9\n",
      "10\n",
      "11\n",
      "12\n",
      "13\n",
      "14\n",
      "15\n",
      "16\n",
      "17\n",
      "18\n",
      "19\n",
      "20\n",
      "21\n",
      "22\n",
      "23\n",
      "24\n",
      "25\n",
      "26\n",
      "27\n",
      "28\n",
      "29\n",
      "30\n",
      "31\n",
      "32\n",
      "33\n",
      "34\n",
      "35\n",
      "36\n",
      "37\n",
      "38\n",
      "39\n",
      "40\n",
      "41\n",
      "42\n",
      "43\n",
      "44\n",
      "45\n",
      "46\n",
      "47\n",
      "48\n",
      "49\n",
      "50\n",
      "51\n",
      "52\n",
      "53\n",
      "54\n",
      "55\n",
      "56\n",
      "57\n",
      "58\n",
      "59\n",
      "60\n",
      "61\n",
      "62\n",
      "63\n",
      "64\n",
      "65\n",
      "66\n",
      "67\n",
      "68\n",
      "69\n",
      "70\n",
      "71\n",
      "72\n",
      "73\n",
      "74\n",
      "75\n",
      "76\n",
      "77\n",
      "78\n",
      "79\n",
      "80\n",
      "81\n",
      "82\n",
      "83\n",
      "84\n",
      "85\n",
      "86\n",
      "87\n",
      "88\n",
      "89\n",
      "90\n",
      "91\n",
      "92\n",
      "93\n",
      "94\n",
      "95\n",
      "96\n",
      "97\n",
      "98\n",
      "99\n",
      "100\n"
     ]
    }
   ],
   "source": [
    "a = 1\n",
    "while a <= 100 :\n",
    "    print(a)\n",
    "    a = a + 1"
   ]
  },
  {
   "cell_type": "code",
   "execution_count": null,
   "id": "9ab6c072-fccd-4a8d-b027-a7c1f371796a",
   "metadata": {},
   "outputs": [
    {
     "name": "stdout",
     "output_type": "stream",
     "text": [
      "1\n",
      "2\n",
      "3\n",
      "4\n",
      "5\n",
      "6\n",
      "7\n",
      "8\n",
      "9\n",
      "10\n",
      "11\n",
      "12\n",
      "13\n",
      "14\n",
      "15\n",
      "16\n",
      "17\n",
      "18\n",
      "19\n",
      "20\n",
      "21\n",
      "22\n",
      "23\n",
      "24\n",
      "25\n",
      "26\n",
      "27\n",
      "28\n",
      "29\n",
      "30\n",
      "31\n",
      "32\n",
      "33\n",
      "34\n",
      "35\n",
      "36\n",
      "37\n",
      "38\n",
      "39\n",
      "40\n",
      "41\n",
      "42\n",
      "43\n",
      "44\n",
      "45\n",
      "46\n",
      "47\n",
      "48\n",
      "49\n",
      "50\n",
      "51\n",
      "52\n",
      "53\n",
      "54\n",
      "55\n",
      "56\n",
      "57\n",
      "58\n",
      "59\n",
      "60\n",
      "61\n",
      "62\n",
      "63\n",
      "64\n",
      "65\n",
      "66\n",
      "67\n",
      "68\n",
      "69\n",
      "70\n",
      "71\n",
      "72\n",
      "73\n",
      "74\n",
      "75\n",
      "76\n",
      "77\n",
      "78\n",
      "79\n",
      "80\n",
      "81\n",
      "82\n",
      "83\n",
      "84\n",
      "85\n",
      "86\n",
      "87\n",
      "88\n",
      "89\n",
      "90\n",
      "91\n",
      "92\n",
      "93\n",
      "94\n",
      "95\n",
      "96\n",
      "97\n",
      "98\n",
      "99\n",
      "100\n"
     ]
    }
   ],
   "source": [
    "for i in range(0,100+1):\n",
    "    if i <= 100 and i > 0 :\n",
    "        print(i)\n",
    "    \n"
   ]
  },
  {
   "cell_type": "markdown",
   "id": "dd7b7ee1-ee28-446b-9ff2-07e586f8ce3a",
   "metadata": {},
   "source": [
    "Q5. Write a program to filter count vowels in the below-given string ?\n",
    "string = \"I want to become a data scientist\""
   ]
  },
  {
   "cell_type": "code",
   "execution_count": 65,
   "id": "02158c8b-5d08-47ce-be98-cedd76bd5bfc",
   "metadata": {},
   "outputs": [
    {
     "ename": "SyntaxError",
     "evalue": "invalid syntax (3468123267.py, line 4)",
     "output_type": "error",
     "traceback": [
      "\u001b[0;36m  Cell \u001b[0;32mIn[65], line 4\u001b[0;36m\u001b[0m\n\u001b[0;31m    if( a[i]! == ' '):\u001b[0m\n\u001b[0m            ^\u001b[0m\n\u001b[0;31mSyntaxError\u001b[0m\u001b[0;31m:\u001b[0m invalid syntax\n"
     ]
    }
   ],
   "source": [
    "a = input('i want to become a data scientist')\n",
    "vowels = 0\n",
    "for i in range(0,len(a)) :\n",
    "    if( a[i]! == ' '):\n",
    "        if(a[i] == 'a' or a[i] == 'e' or a[i] == 'i' or a[i] == 'o' or a[i] == 'u' )\n",
    "        vowels = vowels +1\n",
    "        print('Total vowels=',vowels)"
   ]
  },
  {
   "cell_type": "code",
   "execution_count": null,
   "id": "bed54b00-7b37-4304-8f85-83c25a2d87f3",
   "metadata": {},
   "outputs": [],
   "source": []
  }
 ],
 "metadata": {
  "kernelspec": {
   "display_name": "Python 3 (ipykernel)",
   "language": "python",
   "name": "python3"
  },
  "language_info": {
   "codemirror_mode": {
    "name": "ipython",
    "version": 3
   },
   "file_extension": ".py",
   "mimetype": "text/x-python",
   "name": "python",
   "nbconvert_exporter": "python",
   "pygments_lexer": "ipython3",
   "version": "3.10.8"
  }
 },
 "nbformat": 4,
 "nbformat_minor": 5
}
